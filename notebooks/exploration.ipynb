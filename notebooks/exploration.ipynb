{
 "cells": [
  {
   "cell_type": "code",
   "execution_count": 3,
   "id": "dcc422cf",
   "metadata": {},
   "outputs": [
    {
     "ename": "ModuleNotFoundError",
     "evalue": "No module named 'PIL'",
     "output_type": "error",
     "traceback": [
      "\u001b[1;31m---------------------------------------------------------------------------\u001b[0m",
      "\u001b[1;31mModuleNotFoundError\u001b[0m                       Traceback (most recent call last)",
      "Cell \u001b[1;32mIn[3], line 4\u001b[0m\n\u001b[0;32m      1\u001b[0m \u001b[38;5;28;01mimport\u001b[39;00m \u001b[38;5;21;01msys\u001b[39;00m\n\u001b[0;32m      2\u001b[0m sys\u001b[38;5;241m.\u001b[39mpath\u001b[38;5;241m.\u001b[39mappend(\u001b[38;5;124m\"\u001b[39m\u001b[38;5;124m../src\u001b[39m\u001b[38;5;124m\"\u001b[39m)\n\u001b[1;32m----> 4\u001b[0m \u001b[38;5;28;01mfrom\u001b[39;00m \u001b[38;5;21;01mutils\u001b[39;00m \u001b[38;5;28;01mimport\u001b[39;00m load_image, save_image, generate_mask_person, generate_mask_clothes\n\u001b[0;32m      5\u001b[0m \u001b[38;5;28;01mfrom\u001b[39;00m \u001b[38;5;21;01minpainting\u001b[39;00m \u001b[38;5;28;01mimport\u001b[39;00m run_inpainting\n\u001b[0;32m      6\u001b[0m \u001b[38;5;28;01mfrom\u001b[39;00m \u001b[38;5;21;01mip_adapter\u001b[39;00m \u001b[38;5;28;01mimport\u001b[39;00m apply_ip_adapter\n",
      "File \u001b[1;32mc:\\Users\\x824990\\Documents\\WorkSpace\\cv_image\\notebooks\\../src\\utils.py:1\u001b[0m\n\u001b[1;32m----> 1\u001b[0m \u001b[38;5;28;01mfrom\u001b[39;00m \u001b[38;5;21;01mPIL\u001b[39;00m \u001b[38;5;28;01mimport\u001b[39;00m Image\n\u001b[0;32m      2\u001b[0m \u001b[38;5;28;01mfrom\u001b[39;00m \u001b[38;5;21;01mtransformers\u001b[39;00m \u001b[38;5;28;01mimport\u001b[39;00m DetrImageProcessor, DetrForSegmentation\n\u001b[0;32m      3\u001b[0m \u001b[38;5;28;01mimport\u001b[39;00m \u001b[38;5;21;01mtorch\u001b[39;00m\n",
      "\u001b[1;31mModuleNotFoundError\u001b[0m: No module named 'PIL'"
     ]
    }
   ],
   "source": [
    "import sys\n",
    "sys.path.append(\"../src\")\n",
    "\n",
    "from utils import load_image, save_image, generate_mask_person, generate_mask_clothes\n",
    "from inpainting import run_inpainting\n",
    "from ip_adapter import apply_ip_adapter"
   ]
  },
  {
   "cell_type": "code",
   "execution_count": null,
   "id": "3864c973",
   "metadata": {},
   "outputs": [],
   "source": [
    "# Load the image\n",
    "image = load_image(\"../data/input/tu_foto.jpg\")\n",
    "mask = generate_mask_person(image)\n",
    "mask.show()"
   ]
  },
  {
   "cell_type": "code",
   "execution_count": null,
   "id": "72839d25",
   "metadata": {},
   "outputs": [],
   "source": [
    "# Complete test\n",
    "ip_adapter_args = apply_ip_adapter(image, reference_face_path=None)\n",
    "ip_adapter_image = ip_adapter_args.get(\"ip_adapter_image\", None)\n",
    "result = run_inpainting(image, mask, \"A professional portrait of a man in a suit\", ip_adapter_image=ip_adapter_image)\n",
    "result.show()"
   ]
  }
 ],
 "metadata": {
  "kernelspec": {
   "display_name": "Python 3",
   "language": "python",
   "name": "python3"
  },
  "language_info": {
   "codemirror_mode": {
    "name": "ipython",
    "version": 3
   },
   "file_extension": ".py",
   "mimetype": "text/x-python",
   "name": "python",
   "nbconvert_exporter": "python",
   "pygments_lexer": "ipython3",
   "version": "3.12.10"
  }
 },
 "nbformat": 4,
 "nbformat_minor": 5
}
